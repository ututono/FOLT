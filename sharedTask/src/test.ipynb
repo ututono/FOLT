{
 "cells": [
  {
   "cell_type": "code",
   "execution_count": 1,
   "metadata": {
    "collapsed": true
   },
   "outputs": [],
   "source": [
    "import nltk\n",
    "import pandas as pd\n"
   ]
  },
  {
   "cell_type": "code",
   "execution_count": 2,
   "outputs": [
    {
     "data": {
      "text/plain": "                          date          country lang  \\\n0    2021-10-23 16:20:41+00:00          Germany   de   \n1    2015-05-16 05:37:36+00:00           France   en   \n2    2018-08-14 11:32:50+00:00   United Kingdom   en   \n3    2021-11-28 19:39:24+00:00  The Netherlands   en   \n4    2021-11-29 13:29:36+00:00           Turkey   en   \n..                         ...              ...  ...   \n495  2021-10-13 23:48:55+00:00   United Kingdom   en   \n496  2019-02-24 19:33:01+00:00           France   en   \n497  2021-08-31 07:38:23+00:00   United Kingdom   en   \n498  2020-05-07 18:44:47+00:00   United Kingdom   en   \n499  2021-11-17 18:00:14+00:00   United Kingdom   en   \n\n                                               content  label  \n0    Plakataktion zur Thematik „Muslime gegen Rasis...      0  \n1    Worth every penny to come here! Even Just for ...      2  \n2    The irony of those jumping on the #BorisJohnso...      2  \n3    #Torment_Planet_Has_Neared\\r\\n\\r\\nglobal means...      2  \n4    The Grand Mosque of Bursa, first capital of Ot...      2  \n..                                                 ...    ...  \n495  Extremist Hindus backed by Indian RAW  provoki...      0  \n496  As complicit in #UK's perilous decision as com...      2  \n497  @HollieStaffor12 @MSANNCOOPER @WendyJWright @G...      2  \n498  New: Title TBD https://t.co/YlT4RxGnx5 #Qanon ...      2  \n499  @from_islamic MashAllah so sweet and beautiful...      2  \n\n[500 rows x 5 columns]",
      "text/html": "<div>\n<style scoped>\n    .dataframe tbody tr th:only-of-type {\n        vertical-align: middle;\n    }\n\n    .dataframe tbody tr th {\n        vertical-align: top;\n    }\n\n    .dataframe thead th {\n        text-align: right;\n    }\n</style>\n<table border=\"1\" class=\"dataframe\">\n  <thead>\n    <tr style=\"text-align: right;\">\n      <th></th>\n      <th>date</th>\n      <th>country</th>\n      <th>lang</th>\n      <th>content</th>\n      <th>label</th>\n    </tr>\n  </thead>\n  <tbody>\n    <tr>\n      <th>0</th>\n      <td>2021-10-23 16:20:41+00:00</td>\n      <td>Germany</td>\n      <td>de</td>\n      <td>Plakataktion zur Thematik „Muslime gegen Rasis...</td>\n      <td>0</td>\n    </tr>\n    <tr>\n      <th>1</th>\n      <td>2015-05-16 05:37:36+00:00</td>\n      <td>France</td>\n      <td>en</td>\n      <td>Worth every penny to come here! Even Just for ...</td>\n      <td>2</td>\n    </tr>\n    <tr>\n      <th>2</th>\n      <td>2018-08-14 11:32:50+00:00</td>\n      <td>United Kingdom</td>\n      <td>en</td>\n      <td>The irony of those jumping on the #BorisJohnso...</td>\n      <td>2</td>\n    </tr>\n    <tr>\n      <th>3</th>\n      <td>2021-11-28 19:39:24+00:00</td>\n      <td>The Netherlands</td>\n      <td>en</td>\n      <td>#Torment_Planet_Has_Neared\\r\\n\\r\\nglobal means...</td>\n      <td>2</td>\n    </tr>\n    <tr>\n      <th>4</th>\n      <td>2021-11-29 13:29:36+00:00</td>\n      <td>Turkey</td>\n      <td>en</td>\n      <td>The Grand Mosque of Bursa, first capital of Ot...</td>\n      <td>2</td>\n    </tr>\n    <tr>\n      <th>...</th>\n      <td>...</td>\n      <td>...</td>\n      <td>...</td>\n      <td>...</td>\n      <td>...</td>\n    </tr>\n    <tr>\n      <th>495</th>\n      <td>2021-10-13 23:48:55+00:00</td>\n      <td>United Kingdom</td>\n      <td>en</td>\n      <td>Extremist Hindus backed by Indian RAW  provoki...</td>\n      <td>0</td>\n    </tr>\n    <tr>\n      <th>496</th>\n      <td>2019-02-24 19:33:01+00:00</td>\n      <td>France</td>\n      <td>en</td>\n      <td>As complicit in #UK's perilous decision as com...</td>\n      <td>2</td>\n    </tr>\n    <tr>\n      <th>497</th>\n      <td>2021-08-31 07:38:23+00:00</td>\n      <td>United Kingdom</td>\n      <td>en</td>\n      <td>@HollieStaffor12 @MSANNCOOPER @WendyJWright @G...</td>\n      <td>2</td>\n    </tr>\n    <tr>\n      <th>498</th>\n      <td>2020-05-07 18:44:47+00:00</td>\n      <td>United Kingdom</td>\n      <td>en</td>\n      <td>New: Title TBD https://t.co/YlT4RxGnx5 #Qanon ...</td>\n      <td>2</td>\n    </tr>\n    <tr>\n      <th>499</th>\n      <td>2021-11-17 18:00:14+00:00</td>\n      <td>United Kingdom</td>\n      <td>en</td>\n      <td>@from_islamic MashAllah so sweet and beautiful...</td>\n      <td>2</td>\n    </tr>\n  </tbody>\n</table>\n<p>500 rows × 5 columns</p>\n</div>"
     },
     "execution_count": 2,
     "metadata": {},
     "output_type": "execute_result"
    }
   ],
   "source": [
    "pd.read_csv('dataset/train.csv')"
   ],
   "metadata": {
    "collapsed": false,
    "pycharm": {
     "name": "#%%\n"
    }
   }
  }
 ],
 "metadata": {
  "kernelspec": {
   "display_name": "Python 3",
   "language": "python",
   "name": "python3"
  },
  "language_info": {
   "codemirror_mode": {
    "name": "ipython",
    "version": 2
   },
   "file_extension": ".py",
   "mimetype": "text/x-python",
   "name": "python",
   "nbconvert_exporter": "python",
   "pygments_lexer": "ipython2",
   "version": "2.7.6"
  }
 },
 "nbformat": 4,
 "nbformat_minor": 0
}